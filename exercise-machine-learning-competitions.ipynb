{
 "cells": [
  {
   "cell_type": "markdown",
   "id": "8877b2d5",
   "metadata": {
    "papermill": {
     "duration": 0.004954,
     "end_time": "2023-08-03T21:35:31.335394",
     "exception": false,
     "start_time": "2023-08-03T21:35:31.330440",
     "status": "completed"
    },
    "tags": []
   },
   "source": [
    "**This notebook is an exercise in the [Introduction to Machine Learning](https://www.kaggle.com/learn/intro-to-machine-learning) course.  You can reference the tutorial at [this link](https://www.kaggle.com/alexisbcook/machine-learning-competitions).**\n",
    "\n",
    "---\n"
   ]
  },
  {
   "cell_type": "markdown",
   "id": "4c0a3406",
   "metadata": {
    "papermill": {
     "duration": 0.004108,
     "end_time": "2023-08-03T21:35:31.344128",
     "exception": false,
     "start_time": "2023-08-03T21:35:31.340020",
     "status": "completed"
    },
    "tags": []
   },
   "source": [
    "# Introduction\n",
    "\n",
    "In this exercise, you will create and submit predictions for a Kaggle competition. You can then improve your model (e.g. by adding features) to apply what you've learned and move up the leaderboard.\n",
    "\n",
    "Begin by running the code cell below to set up code checking and the filepaths for the dataset."
   ]
  },
  {
   "cell_type": "code",
   "execution_count": 1,
   "id": "9c11293c",
   "metadata": {
    "execution": {
     "iopub.execute_input": "2023-08-03T21:35:31.354609Z",
     "iopub.status.busy": "2023-08-03T21:35:31.354226Z",
     "iopub.status.idle": "2023-08-03T21:35:31.404842Z",
     "shell.execute_reply": "2023-08-03T21:35:31.402890Z"
    },
    "papermill": {
     "duration": 0.059961,
     "end_time": "2023-08-03T21:35:31.408447",
     "exception": false,
     "start_time": "2023-08-03T21:35:31.348486",
     "status": "completed"
    },
    "tags": []
   },
   "outputs": [
    {
     "name": "stdout",
     "output_type": "stream",
     "text": [
      "Setup Complete\n"
     ]
    }
   ],
   "source": [
    "# Set up code checking\n",
    "from learntools.core import binder\n",
    "binder.bind(globals())\n",
    "from learntools.machine_learning.ex7 import *\n",
    "\n",
    "# Set up filepaths\n",
    "import os\n",
    "if not os.path.exists(\"../input/train.csv\"):\n",
    "    os.symlink(\"../input/home-data-for-ml-course/train.csv\", \"../input/train.csv\")  \n",
    "    os.symlink(\"../input/home-data-for-ml-course/test.csv\", \"../input/test.csv\") \n",
    "    \n",
    "print(\"Setup Complete\")"
   ]
  },
  {
   "cell_type": "markdown",
   "id": "9a786b8c",
   "metadata": {
    "papermill": {
     "duration": 0.005823,
     "end_time": "2023-08-03T21:35:31.419754",
     "exception": false,
     "start_time": "2023-08-03T21:35:31.413931",
     "status": "completed"
    },
    "tags": []
   },
   "source": [
    "Here's some of the code you've written so far. Start by running it again."
   ]
  },
  {
   "cell_type": "code",
   "execution_count": 2,
   "id": "d69b1a37",
   "metadata": {
    "execution": {
     "iopub.execute_input": "2023-08-03T21:35:31.432132Z",
     "iopub.status.busy": "2023-08-03T21:35:31.431588Z",
     "iopub.status.idle": "2023-08-03T21:35:33.247871Z",
     "shell.execute_reply": "2023-08-03T21:35:33.246975Z"
    },
    "papermill": {
     "duration": 1.825389,
     "end_time": "2023-08-03T21:35:33.250424",
     "exception": false,
     "start_time": "2023-08-03T21:35:31.425035",
     "status": "completed"
    },
    "tags": []
   },
   "outputs": [
    {
     "name": "stderr",
     "output_type": "stream",
     "text": [
      "/opt/conda/lib/python3.10/site-packages/scipy/__init__.py:146: UserWarning: A NumPy version >=1.16.5 and <1.23.0 is required for this version of SciPy (detected version 1.23.5\n",
      "  warnings.warn(f\"A NumPy version >={np_minversion} and <{np_maxversion}\"\n"
     ]
    }
   ],
   "source": [
    "# Import helpful libraries\n",
    "import pandas as pd\n",
    "from sklearn.ensemble import RandomForestRegressor\n",
    "from sklearn.metrics import mean_absolute_error\n",
    "from sklearn.model_selection import train_test_split\n",
    "\n",
    "# Load the data, and separate the target\n",
    "iowa_file_path = '../input/train.csv'\n",
    "home_data = pd.read_csv(iowa_file_path)\n",
    "y = home_data.SalePrice\n",
    "\n",
    "# Create X (After completing the exercise, you can return to modify this line!)\n",
    "features = ['LotArea', 'YearBuilt', '1stFlrSF', '2ndFlrSF', 'FullBath', 'BedroomAbvGr', 'TotRmsAbvGrd', 'OverallQual', 'OverallCond', 'Fireplaces','GarageArea', 'PoolArea']\n",
    "\n",
    "# Select columns corresponding to features, and preview the data\n",
    "X = home_data[features]\n",
    "X.head()\n",
    "\n",
    "# Split into validation and training data\n",
    "train_X, val_X, train_y, val_y = train_test_split(X, y, random_state=1)\n",
    "\n",
    "# Define a random forest model\n",
    "# rf_model = RandomForestRegressor(random_state=1)\n",
    "# rf_model.fit(train_X, train_y)\n",
    "# rf_val_predictions = rf_model.predict(val_X)\n",
    "# rf_val_mae = mean_absolute_error(rf_val_predictions, val_y)\n",
    "\n",
    "# print(\"Validation MAE for Random Forest Model: {:,.0f}\".format(rf_val_mae))"
   ]
  },
  {
   "cell_type": "code",
   "execution_count": 3,
   "id": "50eee0de",
   "metadata": {
    "execution": {
     "iopub.execute_input": "2023-08-03T21:35:33.261589Z",
     "iopub.status.busy": "2023-08-03T21:35:33.261181Z",
     "iopub.status.idle": "2023-08-03T21:35:33.313486Z",
     "shell.execute_reply": "2023-08-03T21:35:33.312196Z"
    },
    "papermill": {
     "duration": 0.060799,
     "end_time": "2023-08-03T21:35:33.315832",
     "exception": false,
     "start_time": "2023-08-03T21:35:33.255033",
     "status": "completed"
    },
    "tags": []
   },
   "outputs": [
    {
     "data": {
      "text/html": [
       "<div>\n",
       "<style scoped>\n",
       "    .dataframe tbody tr th:only-of-type {\n",
       "        vertical-align: middle;\n",
       "    }\n",
       "\n",
       "    .dataframe tbody tr th {\n",
       "        vertical-align: top;\n",
       "    }\n",
       "\n",
       "    .dataframe thead th {\n",
       "        text-align: right;\n",
       "    }\n",
       "</style>\n",
       "<table border=\"1\" class=\"dataframe\">\n",
       "  <thead>\n",
       "    <tr style=\"text-align: right;\">\n",
       "      <th></th>\n",
       "      <th>LotArea</th>\n",
       "      <th>YearBuilt</th>\n",
       "      <th>1stFlrSF</th>\n",
       "      <th>2ndFlrSF</th>\n",
       "      <th>FullBath</th>\n",
       "      <th>BedroomAbvGr</th>\n",
       "      <th>TotRmsAbvGrd</th>\n",
       "      <th>OverallQual</th>\n",
       "      <th>OverallCond</th>\n",
       "      <th>Fireplaces</th>\n",
       "      <th>GarageArea</th>\n",
       "      <th>PoolArea</th>\n",
       "    </tr>\n",
       "  </thead>\n",
       "  <tbody>\n",
       "    <tr>\n",
       "      <th>count</th>\n",
       "      <td>1460.000000</td>\n",
       "      <td>1460.000000</td>\n",
       "      <td>1460.000000</td>\n",
       "      <td>1460.000000</td>\n",
       "      <td>1460.000000</td>\n",
       "      <td>1460.000000</td>\n",
       "      <td>1460.000000</td>\n",
       "      <td>1460.000000</td>\n",
       "      <td>1460.000000</td>\n",
       "      <td>1460.000000</td>\n",
       "      <td>1460.000000</td>\n",
       "      <td>1460.000000</td>\n",
       "    </tr>\n",
       "    <tr>\n",
       "      <th>mean</th>\n",
       "      <td>10516.828082</td>\n",
       "      <td>1971.267808</td>\n",
       "      <td>1162.626712</td>\n",
       "      <td>346.992466</td>\n",
       "      <td>1.565068</td>\n",
       "      <td>2.866438</td>\n",
       "      <td>6.517808</td>\n",
       "      <td>6.099315</td>\n",
       "      <td>5.575342</td>\n",
       "      <td>0.613014</td>\n",
       "      <td>472.980137</td>\n",
       "      <td>2.758904</td>\n",
       "    </tr>\n",
       "    <tr>\n",
       "      <th>std</th>\n",
       "      <td>9981.264932</td>\n",
       "      <td>30.202904</td>\n",
       "      <td>386.587738</td>\n",
       "      <td>436.528436</td>\n",
       "      <td>0.550916</td>\n",
       "      <td>0.815778</td>\n",
       "      <td>1.625393</td>\n",
       "      <td>1.382997</td>\n",
       "      <td>1.112799</td>\n",
       "      <td>0.644666</td>\n",
       "      <td>213.804841</td>\n",
       "      <td>40.177307</td>\n",
       "    </tr>\n",
       "    <tr>\n",
       "      <th>min</th>\n",
       "      <td>1300.000000</td>\n",
       "      <td>1872.000000</td>\n",
       "      <td>334.000000</td>\n",
       "      <td>0.000000</td>\n",
       "      <td>0.000000</td>\n",
       "      <td>0.000000</td>\n",
       "      <td>2.000000</td>\n",
       "      <td>1.000000</td>\n",
       "      <td>1.000000</td>\n",
       "      <td>0.000000</td>\n",
       "      <td>0.000000</td>\n",
       "      <td>0.000000</td>\n",
       "    </tr>\n",
       "    <tr>\n",
       "      <th>25%</th>\n",
       "      <td>7553.500000</td>\n",
       "      <td>1954.000000</td>\n",
       "      <td>882.000000</td>\n",
       "      <td>0.000000</td>\n",
       "      <td>1.000000</td>\n",
       "      <td>2.000000</td>\n",
       "      <td>5.000000</td>\n",
       "      <td>5.000000</td>\n",
       "      <td>5.000000</td>\n",
       "      <td>0.000000</td>\n",
       "      <td>334.500000</td>\n",
       "      <td>0.000000</td>\n",
       "    </tr>\n",
       "    <tr>\n",
       "      <th>50%</th>\n",
       "      <td>9478.500000</td>\n",
       "      <td>1973.000000</td>\n",
       "      <td>1087.000000</td>\n",
       "      <td>0.000000</td>\n",
       "      <td>2.000000</td>\n",
       "      <td>3.000000</td>\n",
       "      <td>6.000000</td>\n",
       "      <td>6.000000</td>\n",
       "      <td>5.000000</td>\n",
       "      <td>1.000000</td>\n",
       "      <td>480.000000</td>\n",
       "      <td>0.000000</td>\n",
       "    </tr>\n",
       "    <tr>\n",
       "      <th>75%</th>\n",
       "      <td>11601.500000</td>\n",
       "      <td>2000.000000</td>\n",
       "      <td>1391.250000</td>\n",
       "      <td>728.000000</td>\n",
       "      <td>2.000000</td>\n",
       "      <td>3.000000</td>\n",
       "      <td>7.000000</td>\n",
       "      <td>7.000000</td>\n",
       "      <td>6.000000</td>\n",
       "      <td>1.000000</td>\n",
       "      <td>576.000000</td>\n",
       "      <td>0.000000</td>\n",
       "    </tr>\n",
       "    <tr>\n",
       "      <th>max</th>\n",
       "      <td>215245.000000</td>\n",
       "      <td>2010.000000</td>\n",
       "      <td>4692.000000</td>\n",
       "      <td>2065.000000</td>\n",
       "      <td>3.000000</td>\n",
       "      <td>8.000000</td>\n",
       "      <td>14.000000</td>\n",
       "      <td>10.000000</td>\n",
       "      <td>9.000000</td>\n",
       "      <td>3.000000</td>\n",
       "      <td>1418.000000</td>\n",
       "      <td>738.000000</td>\n",
       "    </tr>\n",
       "  </tbody>\n",
       "</table>\n",
       "</div>"
      ],
      "text/plain": [
       "             LotArea    YearBuilt     1stFlrSF     2ndFlrSF     FullBath  \\\n",
       "count    1460.000000  1460.000000  1460.000000  1460.000000  1460.000000   \n",
       "mean    10516.828082  1971.267808  1162.626712   346.992466     1.565068   \n",
       "std      9981.264932    30.202904   386.587738   436.528436     0.550916   \n",
       "min      1300.000000  1872.000000   334.000000     0.000000     0.000000   \n",
       "25%      7553.500000  1954.000000   882.000000     0.000000     1.000000   \n",
       "50%      9478.500000  1973.000000  1087.000000     0.000000     2.000000   \n",
       "75%     11601.500000  2000.000000  1391.250000   728.000000     2.000000   \n",
       "max    215245.000000  2010.000000  4692.000000  2065.000000     3.000000   \n",
       "\n",
       "       BedroomAbvGr  TotRmsAbvGrd  OverallQual  OverallCond   Fireplaces  \\\n",
       "count   1460.000000   1460.000000  1460.000000  1460.000000  1460.000000   \n",
       "mean       2.866438      6.517808     6.099315     5.575342     0.613014   \n",
       "std        0.815778      1.625393     1.382997     1.112799     0.644666   \n",
       "min        0.000000      2.000000     1.000000     1.000000     0.000000   \n",
       "25%        2.000000      5.000000     5.000000     5.000000     0.000000   \n",
       "50%        3.000000      6.000000     6.000000     5.000000     1.000000   \n",
       "75%        3.000000      7.000000     7.000000     6.000000     1.000000   \n",
       "max        8.000000     14.000000    10.000000     9.000000     3.000000   \n",
       "\n",
       "        GarageArea     PoolArea  \n",
       "count  1460.000000  1460.000000  \n",
       "mean    472.980137     2.758904  \n",
       "std     213.804841    40.177307  \n",
       "min       0.000000     0.000000  \n",
       "25%     334.500000     0.000000  \n",
       "50%     480.000000     0.000000  \n",
       "75%     576.000000     0.000000  \n",
       "max    1418.000000   738.000000  "
      ]
     },
     "execution_count": 3,
     "metadata": {},
     "output_type": "execute_result"
    }
   ],
   "source": [
    "X.describe()"
   ]
  },
  {
   "cell_type": "code",
   "execution_count": 4,
   "id": "f96bdf5a",
   "metadata": {
    "execution": {
     "iopub.execute_input": "2023-08-03T21:35:33.329111Z",
     "iopub.status.busy": "2023-08-03T21:35:33.328636Z",
     "iopub.status.idle": "2023-08-03T21:36:21.294284Z",
     "shell.execute_reply": "2023-08-03T21:36:21.292645Z"
    },
    "papermill": {
     "duration": 47.974846,
     "end_time": "2023-08-03T21:36:21.297162",
     "exception": false,
     "start_time": "2023-08-03T21:35:33.322316",
     "status": "completed"
    },
    "tags": []
   },
   "outputs": [
    {
     "name": "stderr",
     "output_type": "stream",
     "text": [
      "/opt/conda/lib/python3.10/site-packages/tensorflow_io/python/ops/__init__.py:98: UserWarning: unable to load libtensorflow_io_plugins.so: unable to open file: libtensorflow_io_plugins.so, from paths: ['/opt/conda/lib/python3.10/site-packages/tensorflow_io/python/ops/libtensorflow_io_plugins.so']\n",
      "caused by: ['/opt/conda/lib/python3.10/site-packages/tensorflow_io/python/ops/libtensorflow_io_plugins.so: undefined symbol: _ZN3tsl6StatusC1EN10tensorflow5error4CodeESt17basic_string_viewIcSt11char_traitsIcEENS_14SourceLocationE']\n",
      "  warnings.warn(f\"unable to load libtensorflow_io_plugins.so: {e}\")\n",
      "/opt/conda/lib/python3.10/site-packages/tensorflow_io/python/ops/__init__.py:104: UserWarning: file system plugins are not loaded: unable to open file: libtensorflow_io.so, from paths: ['/opt/conda/lib/python3.10/site-packages/tensorflow_io/python/ops/libtensorflow_io.so']\n",
      "caused by: ['/opt/conda/lib/python3.10/site-packages/tensorflow_io/python/ops/libtensorflow_io.so: undefined symbol: _ZTVN10tensorflow13GcsFileSystemE']\n",
      "  warnings.warn(f\"file system plugins are not loaded: {e}\")\n"
     ]
    }
   ],
   "source": [
    "from tensorflow import keras\n",
    "from tensorflow.keras import layers\n",
    "from tensorflow.keras.callbacks import EarlyStopping\n",
    "\n",
    "model = keras.Sequential([\n",
    "    layers.BatchNormalization(input_shape = [12]),\n",
    "    layers.Dense(units = 512, activation = 'relu'),\n",
    "    layers.Dropout(rate = 0.15),\n",
    "    layers.BatchNormalization(),\n",
    "    layers.Dense(units = 512, activation = 'relu'),\n",
    "    layers.Dropout(rate = 0.15),\n",
    "    layers.Dense(units = 512, activation = 'relu'),\n",
    "    layers.Dropout(rate = 0.15),\n",
    "    layers.Dense(units = 1, activation = 'relu')\n",
    "])\n",
    "\n",
    "model.compile(\n",
    "    optimizer = \"adam\",\n",
    "    loss = \"mae\",\n",
    ")\n",
    "\n",
    "early_stopping = EarlyStopping(\n",
    "    min_delta = 2000,\n",
    "    patience = 20,\n",
    ")\n",
    "\n",
    "history = model.fit(\n",
    "    train_X, train_y,\n",
    "    validation_data = (val_X, val_y),\n",
    "    batch_size = 512, \n",
    "    epochs = 350,\n",
    "    verbose = 0,\n",
    ")\n",
    "\n"
   ]
  },
  {
   "cell_type": "code",
   "execution_count": 5,
   "id": "03ddf0a2",
   "metadata": {
    "execution": {
     "iopub.execute_input": "2023-08-03T21:36:21.310082Z",
     "iopub.status.busy": "2023-08-03T21:36:21.309048Z",
     "iopub.status.idle": "2023-08-03T21:36:21.697597Z",
     "shell.execute_reply": "2023-08-03T21:36:21.694795Z"
    },
    "papermill": {
     "duration": 0.397428,
     "end_time": "2023-08-03T21:36:21.700182",
     "exception": false,
     "start_time": "2023-08-03T21:36:21.302754",
     "status": "completed"
    },
    "tags": []
   },
   "outputs": [
    {
     "data": {
      "text/plain": [
       "<Axes: >"
      ]
     },
     "execution_count": 5,
     "metadata": {},
     "output_type": "execute_result"
    },
    {
     "data": {
      "image/png": "[encoded data removed]",
      "text/plain": [
       "<Figure size 640x480 with 1 Axes>"
      ]
     },
     "metadata": {},
     "output_type": "display_data"
    }
   ],
   "source": [
    "import pandas as pd\n",
    "history_df = pd.DataFrame(history.history)\n",
    "history_df.loc[150:, ['loss', 'val_loss']].plot()"
   ]
  },
  {
   "cell_type": "markdown",
   "id": "b342ab39",
   "metadata": {
    "papermill": {
     "duration": 0.006358,
     "end_time": "2023-08-03T21:36:21.712841",
     "exception": false,
     "start_time": "2023-08-03T21:36:21.706483",
     "status": "completed"
    },
    "tags": []
   },
   "source": [
    "# Train a model for the competition\n",
    "\n",
    "The code cell above trains a Random Forest model on **`train_X`** and **`train_y`**.  \n",
    "\n",
    "Use the code cell below to build a Random Forest model and train it on all of **`X`** and **`y`**."
   ]
  },
  {
   "cell_type": "code",
   "execution_count": 6,
   "id": "ee2a6132",
   "metadata": {
    "execution": {
     "iopub.execute_input": "2023-08-03T21:36:21.728270Z",
     "iopub.status.busy": "2023-08-03T21:36:21.727855Z",
     "iopub.status.idle": "2023-08-03T21:36:21.733513Z",
     "shell.execute_reply": "2023-08-03T21:36:21.732422Z"
    },
    "papermill": {
     "duration": 0.016006,
     "end_time": "2023-08-03T21:36:21.736053",
     "exception": false,
     "start_time": "2023-08-03T21:36:21.720047",
     "status": "completed"
    },
    "tags": []
   },
   "outputs": [],
   "source": [
    "# # To improve accuracy, create a new Random Forest model which you will train on all training data\n",
    "# rf_model_on_full_data = RandomForestRegressor(random_state = 1)\n",
    "\n",
    "# # fit rf_model_on_full_data on all data from the training data\n",
    "# rf_model_on_full_data.fit(X, y)"
   ]
  },
  {
   "cell_type": "markdown",
   "id": "26516422",
   "metadata": {
    "papermill": {
     "duration": 0.005741,
     "end_time": "2023-08-03T21:36:21.747974",
     "exception": false,
     "start_time": "2023-08-03T21:36:21.742233",
     "status": "completed"
    },
    "tags": []
   },
   "source": [
    "Now, read the file of \"test\" data, and apply your model to make predictions."
   ]
  },
  {
   "cell_type": "code",
   "execution_count": 7,
   "id": "d1b812a8",
   "metadata": {
    "execution": {
     "iopub.execute_input": "2023-08-03T21:36:21.761682Z",
     "iopub.status.busy": "2023-08-03T21:36:21.761292Z",
     "iopub.status.idle": "2023-08-03T21:36:22.300508Z",
     "shell.execute_reply": "2023-08-03T21:36:22.299345Z"
    },
    "papermill": {
     "duration": 0.548882,
     "end_time": "2023-08-03T21:36:22.302934",
     "exception": false,
     "start_time": "2023-08-03T21:36:21.754052",
     "status": "completed"
    },
    "tags": []
   },
   "outputs": [
    {
     "name": "stdout",
     "output_type": "stream",
     "text": [
      "46/46 [==============================] - 0s 2ms/step\n",
      "[130379.49  155010.19  176026.33  ... 160946.69  117998.836 224519.6  ]\n"
     ]
    }
   ],
   "source": [
    "# path to file you will use for predictions\n",
    "test_data_path = '../input/test.csv'\n",
    "\n",
    "# read test data file using pandas\n",
    "test_data = pd.read_csv(test_data_path)\n",
    "\n",
    "# create test_X which comes from test_data but includes only the columns you used for prediction.\n",
    "# The list of columns is stored in a variable called features\n",
    "test_X = test_data[features]\n",
    "\n",
    "# make predictions which we will submit. \n",
    "test_predictions = model.predict(test_X)\n",
    "test_preds = test_predictions.flatten()\n",
    "\n",
    "print(test_preds)"
   ]
  },
  {
   "cell_type": "markdown",
   "id": "d8c424a7",
   "metadata": {
    "papermill": {
     "duration": 0.007478,
     "end_time": "2023-08-03T21:36:22.317070",
     "exception": false,
     "start_time": "2023-08-03T21:36:22.309592",
     "status": "completed"
    },
    "tags": []
   },
   "source": [
    "Before submitting, run a check to make sure your `test_preds` have the right format."
   ]
  },
  {
   "cell_type": "code",
   "execution_count": 8,
   "id": "67724e9a",
   "metadata": {
    "execution": {
     "iopub.execute_input": "2023-08-03T21:36:22.331554Z",
     "iopub.status.busy": "2023-08-03T21:36:22.331136Z",
     "iopub.status.idle": "2023-08-03T21:36:22.339501Z",
     "shell.execute_reply": "2023-08-03T21:36:22.338666Z"
    },
    "papermill": {
     "duration": 0.018049,
     "end_time": "2023-08-03T21:36:22.341563",
     "exception": false,
     "start_time": "2023-08-03T21:36:22.323514",
     "status": "completed"
    },
    "tags": []
   },
   "outputs": [
    {
     "data": {
      "application/javascript": [
       "parent.postMessage({\"jupyterEvent\": \"custom.exercise_interaction\", \"data\": {\"outcomeType\": 1, \"valueTowardsCompletion\": 1.0, \"interactionType\": 1, \"questionType\": 2, \"questionId\": \"1_CheckSubmittablePreds\", \"learnToolsVersion\": \"0.3.4\", \"failureMessage\": \"\", \"exceptionClass\": \"\", \"trace\": \"\"}}, \"*\")"
      ],
      "text/plain": [
       "<IPython.core.display.Javascript object>"
      ]
     },
     "metadata": {},
     "output_type": "display_data"
    },
    {
     "data": {
      "text/markdown": [
       "<span style=\"color:#33cc33\">Correct</span>"
      ],
      "text/plain": [
       "Correct"
      ]
     },
     "metadata": {},
     "output_type": "display_data"
    }
   ],
   "source": [
    "# Check your answer (To get credit for completing the exercise, you must get a \"Correct\" result!)\n",
    "step_1.check()\n",
    "# step_1.solution()"
   ]
  },
  {
   "cell_type": "markdown",
   "id": "e85394a0",
   "metadata": {
    "papermill": {
     "duration": 0.006257,
     "end_time": "2023-08-03T21:36:22.354537",
     "exception": false,
     "start_time": "2023-08-03T21:36:22.348280",
     "status": "completed"
    },
    "tags": []
   },
   "source": [
    "# Generate a submission\n",
    "\n",
    "Run the code cell below to generate a CSV file with your predictions that you can use to submit to the competition."
   ]
  },
  {
   "cell_type": "code",
   "execution_count": 9,
   "id": "04d6b06c",
   "metadata": {
    "execution": {
     "iopub.execute_input": "2023-08-03T21:36:22.370200Z",
     "iopub.status.busy": "2023-08-03T21:36:22.368861Z",
     "iopub.status.idle": "2023-08-03T21:36:22.381480Z",
     "shell.execute_reply": "2023-08-03T21:36:22.380393Z"
    },
    "papermill": {
     "duration": 0.023077,
     "end_time": "2023-08-03T21:36:22.384128",
     "exception": false,
     "start_time": "2023-08-03T21:36:22.361051",
     "status": "completed"
    },
    "tags": []
   },
   "outputs": [],
   "source": [
    "# Run the code to save predictions in the format used for competition scoring\n",
    "\n",
    "output = pd.DataFrame({'Id': test_data.Id,\n",
    "                       'SalePrice': test_preds})\n",
    "output.to_csv('submission.csv', index=False)"
   ]
  },
  {
   "cell_type": "markdown",
   "id": "7b99e161",
   "metadata": {
    "papermill": {
     "duration": 0.006307,
     "end_time": "2023-08-03T21:36:22.397416",
     "exception": false,
     "start_time": "2023-08-03T21:36:22.391109",
     "status": "completed"
    },
    "tags": []
   },
   "source": [
    "# Submit to the competition\n",
    "\n",
    "To test your results, you'll need to join the competition (if you haven't already).  So open a new window by clicking on **[this link](https://www.kaggle.com/c/home-data-for-ml-course)**.  Then click on the **Join Competition** button.\n",
    "\n",
    "![join competition image](https://storage.googleapis.com/kaggle-media/learn/images/axBzctl.png)\n",
    "\n",
    "Next, follow the instructions below:\n",
    "1. Begin by clicking on the **Save Version** button in the top right corner of the window.  This will generate a pop-up window.  \n",
    "2. Ensure that the **Save and Run All** option is selected, and then click on the **Save** button.\n",
    "3. This generates a window in the bottom left corner of the notebook.  After it has finished running, click on the number to the right of the **Save Version** button.  This pulls up a list of versions on the right of the screen.  Click on the ellipsis **(...)** to the right of the most recent version, and select **Open in Viewer**.  This brings you into view mode of the same page. You will need to scroll down to get back to these instructions.\n",
    "4. Click on the **Data** tab near the top of the screen.  Then, click on the file you would like to submit, and click on the **Submit** button to submit your results to the leaderboard.\n",
    "\n",
    "You have now successfully submitted to the competition!\n",
    "\n",
    "If you want to keep working to improve your performance, select the **Edit** button in the top right of the screen. Then you can change your code and repeat the process. There's a lot of room to improve, and you will climb up the leaderboard as you work.\n",
    "\n",
    "\n",
    "# Continue Your Progress\n",
    "There are many ways to improve your model, and **experimenting is a great way to learn at this point.**\n",
    "\n",
    "The best way to improve your model is to add features.  To add more features to the data, revisit the first code cell, and change this line of code to include more column names:\n",
    "```python\n",
    "features = ['LotArea', 'YearBuilt', '1stFlrSF', '2ndFlrSF', 'FullBath', 'BedroomAbvGr', 'TotRmsAbvGrd']\n",
    "```\n",
    "\n",
    "Some features will cause errors because of issues like missing values or non-numeric data types.  Here is a complete list of potential columns that you might like to use, and that won't throw errors:\n",
    "- 'MSSubClass'\n",
    "- 'LotArea'\n",
    "- 'OverallQual' \n",
    "- 'OverallCond' \n",
    "- 'YearBuilt'\n",
    "- 'YearRemodAdd' \n",
    "- '1stFlrSF'\n",
    "- '2ndFlrSF' \n",
    "- 'LowQualFinSF' \n",
    "- 'GrLivArea'\n",
    "- 'FullBath'\n",
    "- 'HalfBath'\n",
    "- 'BedroomAbvGr' \n",
    "- 'KitchenAbvGr' \n",
    "- 'TotRmsAbvGrd' \n",
    "- 'Fireplaces' \n",
    "- 'WoodDeckSF' \n",
    "- 'OpenPorchSF'\n",
    "- 'EnclosedPorch' \n",
    "- '3SsnPorch' \n",
    "- 'ScreenPorch' \n",
    "- 'PoolArea' \n",
    "- 'MiscVal' \n",
    "- 'MoSold' \n",
    "- 'YrSold'\n",
    "\n",
    "Look at the list of columns and think about what might affect home prices.  To learn more about each of these features, take a look at the data description on the **[competition page](https://www.kaggle.com/c/home-data-for-ml-course/data)**.\n",
    "\n",
    "After updating the code cell above that defines the features, re-run all of the code cells to evaluate the model and generate a new submission file.  \n",
    "\n",
    "\n",
    "# What's next?\n",
    "\n",
    "As mentioned above, some of the features will throw an error if you try to use them to train your model.  The **[Intermediate Machine Learning](https://www.kaggle.com/learn/intermediate-machine-learning)** course will teach you how to handle these types of features. You will also learn to use **xgboost**, a technique giving even better accuracy than Random Forest.\n",
    "\n",
    "The **[Pandas](https://kaggle.com/Learn/Pandas)** course will give you the data manipulation skills to quickly go from conceptual idea to implementation in your data science projects. \n",
    "\n",
    "You are also ready for the **[Deep Learning](https://kaggle.com/Learn/intro-to-Deep-Learning)** course, where you will build models with better-than-human level performance at computer vision tasks."
   ]
  },
  {
   "cell_type": "markdown",
   "id": "51dc9771",
   "metadata": {
    "papermill": {
     "duration": 0.006338,
     "end_time": "2023-08-03T21:36:22.410745",
     "exception": false,
     "start_time": "2023-08-03T21:36:22.404407",
     "status": "completed"
    },
    "tags": []
   },
   "source": [
    "---\n",
    "\n",
    "\n",
    "\n",
    "\n",
    "*Have questions or comments? Visit the [course discussion forum](https://www.kaggle.com/learn/intro-to-machine-learning/discussion) to chat with other learners.*"
   ]
  }
 ],
 "metadata": {
  "kernelspec": {
   "display_name": "Python 3",
   "language": "python",
   "name": "python3"
  },
  "language_info": {
   "codemirror_mode": {
    "name": "ipython",
    "version": 3
   },
   "file_extension": ".py",
   "mimetype": "text/x-python",
   "name": "python",
   "nbconvert_exporter": "python",
   "pygments_lexer": "ipython3",
   "version": "3.10.12"
  },
  "papermill": {
   "default_parameters": {},
   "duration": 63.619927,
   "end_time": "2023-08-03T21:36:25.122269",
   "environment_variables": {},
   "exception": null,
   "input_path": "__notebook__.ipynb",
   "output_path": "__notebook__.ipynb",
   "parameters": {},
   "start_time": "2023-08-03T21:35:21.502342",
   "version": "2.4.0"
  }
 },
 "nbformat": 4,
 "nbformat_minor": 5
}
